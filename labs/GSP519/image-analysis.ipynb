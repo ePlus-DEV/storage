{
 "cells": [
  {
   "cell_type": "markdown",
   "metadata": {
    "id": "JAPoU8Sm5E6e"
   },
   "source": [
    "# Prompt Design in Vertex AI: Challenge Lab"
   ]
  },
  {
   "cell_type": "markdown",
   "metadata": {
    "id": "No17Cw5hgx12"
   },
   "source": [
    "## Install the Google Gen AI SDK\n"
   ]
  },
  {
   "cell_type": "code",
   "execution_count": 1,
   "metadata": {
    "id": "tFy3H3aPgx12",
    "tags": []
   },
   "outputs": [
    {
     "name": "stdout",
     "output_type": "stream",
     "text": [
      "Note: you may need to restart the kernel to use updated packages.\n"
     ]
    }
   ],
   "source": [
    "%pip install --upgrade --quiet google-genai"
   ]
  },
  {
   "cell_type": "code",
   "execution_count": 2,
   "metadata": {
    "id": "Nqwi-5ufWp_B",
    "tags": []
   },
   "outputs": [],
   "source": [
    "import os\n",
    "from google import genai\n",
    "\n",
    "PROJECT_ID = \"qwiklabs-gcp-00-425c7fdc774b\"\n",
    "LOCATION = os.environ.get(\"GOOGLE_CLOUD_REGION\", \"global\")"
   ]
  },
  {
   "cell_type": "code",
   "execution_count": 3,
   "metadata": {
    "id": "T-tiytzQE0uM",
    "tags": []
   },
   "outputs": [],
   "source": [
    "client = genai.Client(vertexai=True, project=PROJECT_ID, location=LOCATION)"
   ]
  },
  {
   "cell_type": "markdown",
   "metadata": {},
   "source": [
    "### TODO: Put your Vertex AI Studio 'Image Analysis' code here\n",
    "\n",
    "**Important: Update Your Client Authentication**\n",
    "\n",
    "When you generate code from the Vertex AI Studio UI, it will use an **API Key** for authentication by default. That code block will look like this:\n",
    "\n",
    "```python\n",
    "# THIS IS THE DEFAULT CODE FROM THE UI\n",
    "client = genai.Client(\n",
    "    vertexai=True,\n",
    "    api_key=os.environ.get(\"GOOGLE_CLOUD_API_KEY\"),\n",
    ")\n",
    "```\n",
    "\n",
    "This lab environment does not use API keys. Instead, you must use the `PROJECT_ID` and `LOCATION` variables that were already defined in cell above.\n",
    "\n",
    "After you paste your code into the cell below, **find and replace** the `client` definition block with this one:\n",
    "\n",
    "```python\n",
    "# USE THIS CODE INSTEAD\n",
    "```"
   ]
  },
  {
   "cell_type": "code",
   "execution_count": 4,
   "metadata": {
    "tags": []
   },
   "outputs": [
    {
     "name": "stdout",
     "output_type": "stream",
     "text": [
      "Here are three types of text inspired by the image:\n",
      "\n",
      "1.  **A short descriptive sentence inspired by the image:**\n",
      "    A vibrant blue hiking backpack rests beside a map on a sun-drenched mountain path, surrounded by a riot of colorful wildflowers.\n",
      "\n",
      "2.  **A catchy advertising phrase:**\n",
      "    Your journey, perfectly packed. Discover the wild.\n",
      "\n",
      "3.  **A poetic nature-inspired description:**\n",
      "    The sun-kissed trail, a ribbon through emerald hills, unfolds amidst a vibrant tapestry of sapphire blues, fiery reds, and golden yellows. Here, where the mountain's breath is pure, a traveler's pack rests, a silent promise of wild discovery, cradled by the earth's soft, floral embrace."
     ]
    }
   ],
   "source": [
    "# TODO: Put your Vertex AI Studio 'Image Analysis' code here.\n",
    "#\n",
    "# After you paste the code, be sure to find the `client = genai.Client(...)`\n",
    "# block and replace it with the project/location version as instructed above.\n",
    "#\n",
    "# --- PASTE YOUR CODE BELOW ---\n",
    "from google import genai\n",
    "from google.genai import types\n",
    "import base64\n",
    "import os\n",
    "\n",
    "def generate():\n",
    "  client = genai.Client(vertexai=True, project=\"qwiklabs-gcp-00-425c7fdc774b\", location=\"us-central1\")\n",
    "\n",
    "  msg1_text1 = types.Part.from_text(text=\"\"\"Analyze the product image and generate three types of text:\n",
    "1. A short descriptive sentence inspired by the image.\n",
    "2. A catchy advertising phrase.\n",
    "3. A poetic nature-inspired description.\"\"\")\n",
    "  msg1_image1 = types.Part.from_uri(\n",
    "      file_uri=\"gs://qwiklabs-gcp-00-425c7fdc774b-bucket/cymbal-product-image.png\",\n",
    "      mime_type=\"image/png\",\n",
    "  )\n",
    "\n",
    "  model = \"gemini-2.5-flash\"\n",
    "  contents = [\n",
    "    types.Content(\n",
    "      role=\"user\",\n",
    "      parts=[\n",
    "        msg1_text1,\n",
    "        msg1_image1\n",
    "      ]\n",
    "    ),\n",
    "  ]\n",
    "\n",
    "  generate_content_config = types.GenerateContentConfig(\n",
    "    temperature = 0.8,\n",
    "    top_p = 0.95,\n",
    "    max_output_tokens = 17810,\n",
    "    safety_settings = [types.SafetySetting(\n",
    "      category=\"HARM_CATEGORY_HATE_SPEECH\",\n",
    "      threshold=\"OFF\"\n",
    "    ),types.SafetySetting(\n",
    "      category=\"HARM_CATEGORY_DANGEROUS_CONTENT\",\n",
    "      threshold=\"OFF\"\n",
    "    ),types.SafetySetting(\n",
    "      category=\"HARM_CATEGORY_SEXUALLY_EXPLICIT\",\n",
    "      threshold=\"OFF\"\n",
    "    ),types.SafetySetting(\n",
    "      category=\"HARM_CATEGORY_HARASSMENT\",\n",
    "      threshold=\"OFF\"\n",
    "    )],\n",
    "    thinking_config=types.ThinkingConfig(\n",
    "      thinking_budget=-1,\n",
    "    ),\n",
    "  )\n",
    "\n",
    "  for chunk in client.models.generate_content_stream(\n",
    "    model = model,\n",
    "    contents = contents,\n",
    "    config = generate_content_config,\n",
    "    ):\n",
    "    print(chunk.text, end=\"\")\n",
    "\n",
    "generate()"
   ]
  },
  {
   "cell_type": "code",
   "execution_count": 5,
   "metadata": {
    "tags": []
   },
   "outputs": [
    {
     "name": "stdout",
     "output_type": "stream",
     "text": [
      "This image paints a picture of a glorious alpine summer day, bursting with an incredibly rich and diverse palette of colors and textures, evoking a strong sense of joy, adventure, and natural serenity.\n",
      "\n",
      "**Colors:**\n",
      "The dominant color is a vibrant, lush **green**, appearing in countless shades from the deep, shadowed emerald of distant slopes and dense bushes to the bright, almost neon lime of sunlit grass in the foreground. This verdant backdrop is magnificently interrupted by a riot of floral hues. Striking clusters of deep **royal blue** or violet bell-shaped flowers (perhaps delphiniums or monkshood) create a bold contrast against the green. Interspersed are fiery, spiky **red** blossoms, adding an unexpected warmth and intensity. Cheerful **yellows** punctuate the scene, from tiny buttercup-like dots scattered throughout to larger, prominent daffodils with their distinctive trumpets, often accompanied by soft **white** counterparts. The narrow dirt path winding through the flora presents earthy tones of light **brown** and grey, grounded by small, darker stones. The backpack is a deep, practical **navy blue**, providing a solid block of color, and is accented by a surprising pop of bright **teal** from the water bottle nestled in its side pocket. Even the folded map lying on the grass displays muted blues, greens, and browns, reflecting topographical details.\n",
      "\n",
      "**Textures:**\n",
      "The textures are as varied and inviting as the colors. The **grass** is dense and appears soft and plush, with individual blades visible, suggesting a tactile, slightly wild feel. The **flowers** offer a range of delicate textures: the smooth, waxy petals of the daffodils, the intricate, clustered bells of the blue flowers, and the feathery, brush-like spikes of the red blossoms. Patches of **mossy ground** add a velvety softness. The **path** contrasts with the soft vegetation, appearing rough and uneven, composed of loose dirt, small pebbles, and exposed, rugged **rocks** peeking through the grass, hinting at a natural, well-trodden trail. The **backpack** has a durable, slightly matte, ripstop fabric texture, with visible webbing and buckles that imply robustness. The **map** looks crinkled and worn, suggesting frequent use and the story of past explorations.\n",
      "\n",
      "**Feeling Evoked:**\n",
      "The overall feeling is one of exhilarating **adventure** and profound **peace**. The bright sunshine and clear, vibrant colors suggest a perfect day for exploration, inviting the viewer to step onto the path and discover what lies beyond. There's a strong sense of **vitality** and **freshness** emanating from the lush greenery and blooming flowers, embodying the peak of summer in the mountains. The presence of the backpack and map evokes a narrative of a journey, a moment of rest, contemplation, or perhaps navigation amidst breathtaking beauty. It inspires a desire for connection with nature, a quiet joy in the unadulterated splendor of the alpine landscape, and a sense of freedom that comes with being surrounded by such untamed, colorful wilderness."
     ]
    }
   ],
   "source": [
    "# TODO: Put your Vertex AI Studio 'Image Analysis' code here.\n",
    "#\n",
    "# After you paste the code, be sure to find the `client = genai.Client(...)`\n",
    "# block and replace it with the project/location version as instructed above.\n",
    "#\n",
    "# --- PASTE YOUR CODE BELOW ---\n",
    "from google import genai\n",
    "from google.genai import types\n",
    "import base64\n",
    "import os\n",
    "\n",
    "def generate():\n",
    "  client = genai.Client(vertexai=True, project=\"qwiklabs-gcp-00-425c7fdc774b\", location=\"us-central1\")\n",
    "\n",
    "  msg1_text1 = types.Part.from_text(text=\"\"\"Describe this image with a focus on colors, textures, and the feeling it evokes.\"\"\")\n",
    "  msg1_image1 = types.Part.from_uri(\n",
    "      file_uri=\"gs://qwiklabs-gcp-00-425c7fdc774b-bucket/cymbal-product-image.png\",\n",
    "      mime_type=\"image/png\",\n",
    "  )\n",
    "\n",
    "  model = \"gemini-2.5-flash\"\n",
    "  contents = [\n",
    "    types.Content(\n",
    "      role=\"user\",\n",
    "      parts=[\n",
    "        msg1_text1,\n",
    "        msg1_image1\n",
    "      ]\n",
    "    ),\n",
    "  ]\n",
    "\n",
    "  generate_content_config = types.GenerateContentConfig(\n",
    "    temperature = 0.8,\n",
    "    top_p = 0.95,\n",
    "    max_output_tokens = 17810,\n",
    "    safety_settings = [types.SafetySetting(\n",
    "      category=\"HARM_CATEGORY_HATE_SPEECH\",\n",
    "      threshold=\"OFF\"\n",
    "    ),types.SafetySetting(\n",
    "      category=\"HARM_CATEGORY_DANGEROUS_CONTENT\",\n",
    "      threshold=\"OFF\"\n",
    "    ),types.SafetySetting(\n",
    "      category=\"HARM_CATEGORY_SEXUALLY_EXPLICIT\",\n",
    "      threshold=\"OFF\"\n",
    "    ),types.SafetySetting(\n",
    "      category=\"HARM_CATEGORY_HARASSMENT\",\n",
    "      threshold=\"OFF\"\n",
    "    )],\n",
    "    thinking_config=types.ThinkingConfig(\n",
    "      thinking_budget=-1,\n",
    "    ),\n",
    "  )\n",
    "\n",
    "  for chunk in client.models.generate_content_stream(\n",
    "    model = model,\n",
    "    contents = contents,\n",
    "    config = generate_content_config,\n",
    "    ):\n",
    "    print(chunk.text, end=\"\")\n",
    "\n",
    "generate()"
   ]
  },
  {
   "cell_type": "code",
   "execution_count": 6,
   "metadata": {
    "tags": []
   },
   "outputs": [
    {
     "name": "stdout",
     "output_type": "stream",
     "text": [
      "Here are a few options, all under 10 words:\n",
      "\n",
      "*   **Backpack, map, trail, colorful mountain flowers.** (6 words)\n",
      "*   **Hiking gear on flower-lined mountain path.** (6 words)\n",
      "*   **Mountain trail, backpack, map, vibrant wildflowers.** (6 words)"
     ]
    }
   ],
   "source": [
    "# TODO: Put your Vertex AI Studio 'Image Analysis' code here.\n",
    "#\n",
    "# After you paste the code, be sure to find the `client = genai.Client(...)`\n",
    "# block and replace it with the project/location version as instructed above.\n",
    "#\n",
    "# --- PASTE YOUR CODE BELOW ---\n",
    "from google import genai\n",
    "from google.genai import types\n",
    "import base64\n",
    "import os\n",
    "\n",
    "def generate():\n",
    "  client = genai.Client(vertexai=True, project=\"qwiklabs-gcp-00-425c7fdc774b\", location=\"us-central1\")\n",
    "\n",
    "  msg1_text1 = types.Part.from_text(text=\"\"\"Change the wording of the prompt in the code cell to make the output less than 10 words\"\"\")\n",
    "  msg1_image1 = types.Part.from_uri(\n",
    "      file_uri=\"gs://qwiklabs-gcp-00-425c7fdc774b-bucket/cymbal-product-image.png\",\n",
    "      mime_type=\"image/png\",\n",
    "  )\n",
    "\n",
    "  model = \"gemini-2.5-flash\"\n",
    "  contents = [\n",
    "    types.Content(\n",
    "      role=\"user\",\n",
    "      parts=[\n",
    "        msg1_text1,\n",
    "        msg1_image1\n",
    "      ]\n",
    "    ),\n",
    "  ]\n",
    "\n",
    "  generate_content_config = types.GenerateContentConfig(\n",
    "    temperature = 0.8,\n",
    "    top_p = 0.95,\n",
    "    max_output_tokens = 17810,\n",
    "    safety_settings = [types.SafetySetting(\n",
    "      category=\"HARM_CATEGORY_HATE_SPEECH\",\n",
    "      threshold=\"OFF\"\n",
    "    ),types.SafetySetting(\n",
    "      category=\"HARM_CATEGORY_DANGEROUS_CONTENT\",\n",
    "      threshold=\"OFF\"\n",
    "    ),types.SafetySetting(\n",
    "      category=\"HARM_CATEGORY_SEXUALLY_EXPLICIT\",\n",
    "      threshold=\"OFF\"\n",
    "    ),types.SafetySetting(\n",
    "      category=\"HARM_CATEGORY_HARASSMENT\",\n",
    "      threshold=\"OFF\"\n",
    "    )],\n",
    "    thinking_config=types.ThinkingConfig(\n",
    "      thinking_budget=-1,\n",
    "    ),\n",
    "  )\n",
    "\n",
    "  for chunk in client.models.generate_content_stream(\n",
    "    model = model,\n",
    "    contents = contents,\n",
    "    config = generate_content_config,\n",
    "    ):\n",
    "    print(chunk.text, end=\"\")\n",
    "\n",
    "generate()"
   ]
  },
  {
   "cell_type": "code",
   "execution_count": null,
   "metadata": {},
   "outputs": [],
   "source": []
  },
  {
   "cell_type": "code",
   "execution_count": null,
   "metadata": {},
   "outputs": [],
   "source": []
  }
 ],
 "metadata": {
  "colab": {
   "name": "intro_genai_sdk.ipynb",
   "toc_visible": true
  },
  "environment": {
   "kernel": "conda-base-py",
   "name": "workbench-notebooks.m133",
   "type": "gcloud",
   "uri": "us-docker.pkg.dev/deeplearning-platform-release/gcr.io/workbench-notebooks:m133"
  },
  "kernelspec": {
   "display_name": "Python 3 (ipykernel) (Local)",
   "language": "python",
   "name": "conda-base-py"
  },
  "language_info": {
   "codemirror_mode": {
    "name": "ipython",
    "version": 3
   },
   "file_extension": ".py",
   "mimetype": "text/x-python",
   "name": "python",
   "nbconvert_exporter": "python",
   "pygments_lexer": "ipython3",
   "version": "3.10.18"
  }
 },
 "nbformat": 4,
 "nbformat_minor": 4
}
